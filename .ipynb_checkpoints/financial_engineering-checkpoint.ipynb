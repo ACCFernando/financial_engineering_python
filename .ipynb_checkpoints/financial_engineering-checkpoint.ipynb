{
 "cells": [
  {
   "cell_type": "code",
   "execution_count": 1,
   "metadata": {},
   "outputs": [],
   "source": [
    "from pandas_datareader import data as web\n",
    "import pandas as pd\n",
    "import seaborn as sns\n",
    "import numpy as np\n",
    "from matplotlib import pyplot as plt\n",
    "from create_database import create_database\n",
    "\n",
    "%matplotlib inline"
   ]
  },
  {
   "cell_type": "code",
   "execution_count": 2,
   "metadata": {},
   "outputs": [],
   "source": [
    "ticker_path = './data/raw/ibov_tickers.xlsx'\n",
    "start='01-01-2020'\n",
    "end='31-12-2020'"
   ]
  },
  {
   "cell_type": "code",
   "execution_count": 3,
   "metadata": {},
   "outputs": [],
   "source": [
    "# df = create_database(start,end, ticker_path) #download database from scratch\n",
    "# df.to_excel(\"./data/raw/b3_2020.xlsx\",index=False)"
   ]
  },
  {
   "cell_type": "code",
   "execution_count": 44,
   "metadata": {},
   "outputs": [
    {
     "data": {
      "text/plain": [
       "(21684, 10)"
      ]
     },
     "execution_count": 44,
     "metadata": {},
     "output_type": "execute_result"
    }
   ],
   "source": [
    "#read already downloaded database\n",
    "df = pd.read_excel('./data/raw/b3_2020.xlsx', index_col='date')\n",
    "df.shape"
   ]
  },
  {
   "cell_type": "code",
   "execution_count": 26,
   "metadata": {},
   "outputs": [
    {
     "data": {
      "text/html": [
       "<div>\n",
       "<style scoped>\n",
       "    .dataframe tbody tr th:only-of-type {\n",
       "        vertical-align: middle;\n",
       "    }\n",
       "\n",
       "    .dataframe tbody tr th {\n",
       "        vertical-align: top;\n",
       "    }\n",
       "\n",
       "    .dataframe thead th {\n",
       "        text-align: right;\n",
       "    }\n",
       "</style>\n",
       "<table border=\"1\" class=\"dataframe\">\n",
       "  <thead>\n",
       "    <tr style=\"text-align: right;\">\n",
       "      <th></th>\n",
       "      <th>ticker</th>\n",
       "      <th>high</th>\n",
       "      <th>low</th>\n",
       "      <th>open</th>\n",
       "      <th>close</th>\n",
       "      <th>volume</th>\n",
       "      <th>adj close</th>\n",
       "      <th>return</th>\n",
       "      <th>pct_change</th>\n",
       "      <th>result_dia</th>\n",
       "    </tr>\n",
       "    <tr>\n",
       "      <th>date</th>\n",
       "      <th></th>\n",
       "      <th></th>\n",
       "      <th></th>\n",
       "      <th></th>\n",
       "      <th></th>\n",
       "      <th></th>\n",
       "      <th></th>\n",
       "      <th></th>\n",
       "      <th></th>\n",
       "      <th></th>\n",
       "    </tr>\n",
       "  </thead>\n",
       "  <tbody>\n",
       "    <tr>\n",
       "      <th>2020-06-22</th>\n",
       "      <td>BBDC3.SA</td>\n",
       "      <td>18.581818</td>\n",
       "      <td>17.736362</td>\n",
       "      <td>18.463636</td>\n",
       "      <td>17.854546</td>\n",
       "      <td>8933320</td>\n",
       "      <td>16.935858</td>\n",
       "      <td>-0.609091</td>\n",
       "      <td>-3.298867</td>\n",
       "      <td>1</td>\n",
       "    </tr>\n",
       "    <tr>\n",
       "      <th>2020-08-03</th>\n",
       "      <td>CSNA3.SA</td>\n",
       "      <td>13.230000</td>\n",
       "      <td>12.460000</td>\n",
       "      <td>12.530000</td>\n",
       "      <td>13.020000</td>\n",
       "      <td>20611800</td>\n",
       "      <td>12.498715</td>\n",
       "      <td>0.490001</td>\n",
       "      <td>3.910620</td>\n",
       "      <td>2</td>\n",
       "    </tr>\n",
       "    <tr>\n",
       "      <th>2020-08-11</th>\n",
       "      <td>VALE3.SA</td>\n",
       "      <td>62.820000</td>\n",
       "      <td>60.160000</td>\n",
       "      <td>62.790001</td>\n",
       "      <td>60.279999</td>\n",
       "      <td>23822800</td>\n",
       "      <td>50.156822</td>\n",
       "      <td>-2.510002</td>\n",
       "      <td>-3.997455</td>\n",
       "      <td>1</td>\n",
       "    </tr>\n",
       "  </tbody>\n",
       "</table>\n",
       "</div>"
      ],
      "text/plain": [
       "              ticker       high        low       open      close    volume  \\\n",
       "date                                                                         \n",
       "2020-06-22  BBDC3.SA  18.581818  17.736362  18.463636  17.854546   8933320   \n",
       "2020-08-03  CSNA3.SA  13.230000  12.460000  12.530000  13.020000  20611800   \n",
       "2020-08-11  VALE3.SA  62.820000  60.160000  62.790001  60.279999  23822800   \n",
       "\n",
       "            adj close    return  pct_change  result_dia  \n",
       "date                                                     \n",
       "2020-06-22  16.935858 -0.609091   -3.298867           1  \n",
       "2020-08-03  12.498715  0.490001    3.910620           2  \n",
       "2020-08-11  50.156822 -2.510002   -3.997455           1  "
      ]
     },
     "execution_count": 26,
     "metadata": {},
     "output_type": "execute_result"
    }
   ],
   "source": [
    "# ajd close = djust close value for dividends and splits\n",
    "# ex: 2 for 1 split(double number of shares), to keep the same values, halves the stock price\n",
    "df.sample(3)"
   ]
  },
  {
   "cell_type": "code",
   "execution_count": 27,
   "metadata": {},
   "outputs": [
    {
     "data": {
      "text/plain": [
       "ticker\n",
       "RDOR3.SA    0.244999\n",
       "RENT3.SA    0.119999\n",
       "BRAP4.SA    0.088535\n",
       "WEGE3.SA    0.075001\n",
       "PETZ3.SA    0.060000\n",
       "              ...   \n",
       "BRFS3.SA   -0.110001\n",
       "YDUQ3.SA   -0.130001\n",
       "CVCB3.SA   -0.141138\n",
       "AZUL4.SA   -0.150001\n",
       "AMER3.SA   -0.400002\n",
       "Name: return, Length: 90, dtype: float64"
      ]
     },
     "execution_count": 27,
     "metadata": {},
     "output_type": "execute_result"
    }
   ],
   "source": [
    "df.groupby('ticker')['return'].median().sort_values(ascending=False)"
   ]
  },
  {
   "cell_type": "code",
   "execution_count": 28,
   "metadata": {},
   "outputs": [
    {
     "data": {
      "text/plain": [
       "ticker\n",
       "AMER3.SA    11.022736\n",
       "RENT3.SA     7.370001\n",
       "LREN3.SA     7.289999\n",
       "PCAR3.SA     6.360001\n",
       "YDUQ3.SA     6.230000\n",
       "              ...    \n",
       "PETZ3.SA     0.809999\n",
       "GOAU4.SA     0.600000\n",
       "ITSA4.SA     0.550000\n",
       "CPLE6.SA     0.451000\n",
       "CASH3.SA     0.291667\n",
       "Name: return, Length: 90, dtype: float64"
      ]
     },
     "execution_count": 28,
     "metadata": {},
     "output_type": "execute_result"
    }
   ],
   "source": [
    "df.groupby('ticker')['return'].max().sort_values(ascending=False)"
   ]
  },
  {
   "cell_type": "code",
   "execution_count": 29,
   "metadata": {},
   "outputs": [
    {
     "data": {
      "text/plain": [
       "ticker\n",
       "CASH3.SA   -0.131666\n",
       "CPLE6.SA   -0.543000\n",
       "BIDI4.SA   -0.623333\n",
       "GOAU4.SA   -0.690000\n",
       "JHSF3.SA   -0.730000\n",
       "              ...   \n",
       "GNDI3.SA   -4.650002\n",
       "AZUL4.SA   -5.599998\n",
       "YDUQ3.SA   -5.599998\n",
       "VIVT3.SA   -8.480000\n",
       "AMER3.SA   -8.500000\n",
       "Name: return, Length: 90, dtype: float64"
      ]
     },
     "execution_count": 29,
     "metadata": {},
     "output_type": "execute_result"
    }
   ],
   "source": [
    "df.groupby('ticker')['return'].min().sort_values(ascending=False)"
   ]
  },
  {
   "cell_type": "code",
   "execution_count": 30,
   "metadata": {},
   "outputs": [
    {
     "data": {
      "text/plain": [
       "ticker\n",
       "RDOR3.SA    0.363827\n",
       "PETZ3.SA    0.342555\n",
       "LWSA3.SA    0.318561\n",
       "WEGE3.SA    0.282482\n",
       "RENT3.SA    0.249530\n",
       "              ...   \n",
       "PRIO3.SA   -0.822092\n",
       "CVCB3.SA   -0.825681\n",
       "IRBR3.SA   -0.837988\n",
       "CIEL3.SA   -0.858368\n",
       "COGN3.SA   -1.035191\n",
       "Name: pct_change, Length: 90, dtype: float64"
      ]
     },
     "execution_count": 30,
     "metadata": {},
     "output_type": "execute_result"
    }
   ],
   "source": [
    "df.groupby('ticker')['pct_change'].median().sort_values(ascending=False)"
   ]
  },
  {
   "cell_type": "code",
   "execution_count": 31,
   "metadata": {},
   "outputs": [
    {
     "data": {
      "text/plain": [
       "ticker\n",
       "ALPA4.SA     35.786965\n",
       "GOLL4.SA     33.414632\n",
       "BRKM5.SA     32.920356\n",
       "CVCB3.SA     32.406430\n",
       "PRIO3.SA     30.195786\n",
       "               ...    \n",
       "ITSA4.SA      6.823812\n",
       "ITUB4.SA      6.162847\n",
       "PETZ3.SA      4.876537\n",
       "TAEE11.SA     4.838713\n",
       "RDOR3.SA      4.054862\n",
       "Name: pct_change, Length: 90, dtype: float64"
      ]
     },
     "execution_count": 31,
     "metadata": {},
     "output_type": "execute_result"
    }
   ],
   "source": [
    "df.groupby('ticker')['pct_change'].max().sort_values(ascending=False)"
   ]
  },
  {
   "cell_type": "code",
   "execution_count": 32,
   "metadata": {},
   "outputs": [
    {
     "data": {
      "text/plain": [
       "ticker\n",
       "CVCB3.SA    -28.287291\n",
       "GOLL4.SA    -23.893130\n",
       "AZUL4.SA    -23.333331\n",
       "VIIA3.SA    -22.132470\n",
       "BPAN4.SA    -20.733939\n",
       "               ...    \n",
       "TAEE11.SA    -5.615381\n",
       "SOMA3.SA     -5.543560\n",
       "PETZ3.SA     -4.925839\n",
       "CASH3.SA     -4.909856\n",
       "RDOR3.SA     -2.120652\n",
       "Name: pct_change, Length: 90, dtype: float64"
      ]
     },
     "execution_count": 32,
     "metadata": {},
     "output_type": "execute_result"
    }
   ],
   "source": [
    "df.groupby('ticker')['pct_change'].min().sort_values(ascending=True)"
   ]
  },
  {
   "cell_type": "code",
   "execution_count": 33,
   "metadata": {},
   "outputs": [],
   "source": [
    "# df = web.DataReader(name=\"GC=F\", data_source='yahoo', start=start, end=end).reset_index() #índice ibov\n",
    "# df.head()"
   ]
  },
  {
   "cell_type": "code",
   "execution_count": 36,
   "metadata": {},
   "outputs": [
    {
     "data": {
      "text/plain": [
       "ticker        0\n",
       "high          0\n",
       "low           0\n",
       "open          0\n",
       "close         0\n",
       "volume        0\n",
       "adj close     0\n",
       "return        0\n",
       "pct_change    0\n",
       "result_dia    0\n",
       "dtype: int64"
      ]
     },
     "execution_count": 36,
     "metadata": {},
     "output_type": "execute_result"
    }
   ],
   "source": [
    "df.isna().sum()"
   ]
  },
  {
   "cell_type": "markdown",
   "metadata": {},
   "source": [
    "# Missing data\n",
    "- Use fillna(method='ffill') and then (method='bfill')\n",
    "- Drop only rows where all data is missing: dropna(axis=0, how='all', inplace=True)\n",
    "- The filled datas will be straight lines"
   ]
  },
  {
   "cell_type": "code",
   "execution_count": 38,
   "metadata": {},
   "outputs": [],
   "source": [
    "#ex\n",
    "df.fillna(method='ffill', inplace=True)"
   ]
  },
  {
   "cell_type": "code",
   "execution_count": 48,
   "metadata": {},
   "outputs": [
    {
     "data": {
      "text/plain": [
       "<AxesSubplot:xlabel='date'>"
      ]
     },
     "execution_count": 48,
     "metadata": {},
     "output_type": "execute_result"
    },
    {
     "data": {
      "image/png": "[encoded data removed]",
      "text/plain": [
       "<Figure size 1080x576 with 1 Axes>"
      ]
     },
     "metadata": {
      "needs_background": "light"
     },
     "output_type": "display_data"
    }
   ],
   "source": [
    "#Cumulated percentual return from beginning of period\n",
    "petr4 = df[df.ticker=='PETR4.SA'].copy()\n",
    "petr4['closed_normalized'] = petr4['close']/petr4['close'].iloc[0]\n",
    "petr4['closed_normalized'].plot(legend=False, figsize=(15,8));"
   ]
  },
  {
   "cell_type": "code",
   "execution_count": 50,
   "metadata": {},
   "outputs": [
    {
     "data": {
      "text/html": [
       "<div>\n",
       "<style scoped>\n",
       "    .dataframe tbody tr th:only-of-type {\n",
       "        vertical-align: middle;\n",
       "    }\n",
       "\n",
       "    .dataframe tbody tr th {\n",
       "        vertical-align: top;\n",
       "    }\n",
       "\n",
       "    .dataframe thead th {\n",
       "        text-align: right;\n",
       "    }\n",
       "</style>\n",
       "<table border=\"1\" class=\"dataframe\">\n",
       "  <thead>\n",
       "    <tr style=\"text-align: right;\">\n",
       "      <th></th>\n",
       "      <th>ticker</th>\n",
       "      <th>high</th>\n",
       "      <th>low</th>\n",
       "      <th>open</th>\n",
       "      <th>close</th>\n",
       "      <th>volume</th>\n",
       "      <th>adj close</th>\n",
       "      <th>return</th>\n",
       "      <th>pct_change</th>\n",
       "      <th>result_dia</th>\n",
       "      <th>gross_return</th>\n",
       "    </tr>\n",
       "    <tr>\n",
       "      <th>date</th>\n",
       "      <th></th>\n",
       "      <th></th>\n",
       "      <th></th>\n",
       "      <th></th>\n",
       "      <th></th>\n",
       "      <th></th>\n",
       "      <th></th>\n",
       "      <th></th>\n",
       "      <th></th>\n",
       "      <th></th>\n",
       "      <th></th>\n",
       "    </tr>\n",
       "  </thead>\n",
       "  <tbody>\n",
       "    <tr>\n",
       "      <th>2020-07-03</th>\n",
       "      <td>GOAU4.SA</td>\n",
       "      <td>7.280000</td>\n",
       "      <td>7.140000</td>\n",
       "      <td>7.190000</td>\n",
       "      <td>7.270000</td>\n",
       "      <td>5039500</td>\n",
       "      <td>6.765951</td>\n",
       "      <td>0.08000</td>\n",
       "      <td>1.112655</td>\n",
       "      <td>2</td>\n",
       "      <td>1.08000</td>\n",
       "    </tr>\n",
       "    <tr>\n",
       "      <th>2020-03-17</th>\n",
       "      <td>BBDC3.SA</td>\n",
       "      <td>17.661158</td>\n",
       "      <td>15.785123</td>\n",
       "      <td>16.314049</td>\n",
       "      <td>16.793388</td>\n",
       "      <td>16728492</td>\n",
       "      <td>15.882850</td>\n",
       "      <td>0.47934</td>\n",
       "      <td>2.938201</td>\n",
       "      <td>2</td>\n",
       "      <td>1.47934</td>\n",
       "    </tr>\n",
       "  </tbody>\n",
       "</table>\n",
       "</div>"
      ],
      "text/plain": [
       "              ticker       high        low       open      close    volume  \\\n",
       "date                                                                         \n",
       "2020-07-03  GOAU4.SA   7.280000   7.140000   7.190000   7.270000   5039500   \n",
       "2020-03-17  BBDC3.SA  17.661158  15.785123  16.314049  16.793388  16728492   \n",
       "\n",
       "            adj close   return  pct_change  result_dia  gross_return  \n",
       "date                                                                  \n",
       "2020-07-03   6.765951  0.08000    1.112655           2       1.08000  \n",
       "2020-03-17  15.882850  0.47934    2.938201           2       1.47934  "
      ]
     },
     "execution_count": 50,
     "metadata": {},
     "output_type": "execute_result"
    }
   ],
   "source": [
    "# ROI = (t2-t1)/t1 = return = net return\n",
    "# Gross Return = 1 + net return\n",
    "# Not considering dividents in this analysis\n",
    "df['gross_return'] = df['return']+1\n",
    "df.sample(2)"
   ]
  },
  {
   "cell_type": "code",
   "execution_count": 69,
   "metadata": {},
   "outputs": [],
   "source": [
    "from math import log\n",
    "# Log Return = Continuously compounded return = log(1+return) = log((Pt)/P(t-1)) = logP(t) - logP(t-1)\n",
    "# Log is better because of the size of the return values are very small\n",
    "df['log_return'] = df['gross_return'].apply(lambda x : log(abs(x),10) if x !=0 else 0) #falta tratar x negativos"
   ]
  },
  {
   "cell_type": "code",
   "execution_count": null,
   "metadata": {},
   "outputs": [],
   "source": []
  }
 ],
 "metadata": {
  "kernelspec": {
   "display_name": "Python 3",
   "language": "python",
   "name": "python3"
  },
  "language_info": {
   "codemirror_mode": {
    "name": "ipython",
    "version": 3
   },
   "file_extension": ".py",
   "mimetype": "text/x-python",
   "name": "python",
   "nbconvert_exporter": "python",
   "pygments_lexer": "ipython3",
   "version": "3.8.5"
  }
 },
 "nbformat": 4,
 "nbformat_minor": 4
}
