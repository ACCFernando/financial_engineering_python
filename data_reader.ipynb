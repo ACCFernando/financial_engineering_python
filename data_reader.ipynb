{
 "cells": [
  {
   "cell_type": "code",
   "execution_count": 10,
   "metadata": {},
   "outputs": [],
   "source": [
    "from pandas_datareader import data as web\n",
    "import pandas as pd\n",
    "import seaborn as sns"
   ]
  },
  {
   "cell_type": "code",
   "execution_count": 12,
   "metadata": {},
   "outputs": [],
   "source": [
    "petr = web.DataReader('PETR4.SA', data_source='yahoo', start='01-01-2021', end='01-10-2021')"
   ]
  },
  {
   "cell_type": "code",
   "execution_count": 13,
   "metadata": {},
   "outputs": [
    {
     "data": {
      "text/plain": [
       "pandas.core.frame.DataFrame"
      ]
     },
     "execution_count": 13,
     "metadata": {},
     "output_type": "execute_result"
    }
   ],
   "source": [
    "type(petr)"
   ]
  },
  {
   "cell_type": "code",
   "execution_count": 14,
   "metadata": {},
   "outputs": [
    {
     "data": {
      "text/html": [
       "<div>\n",
       "<style scoped>\n",
       "    .dataframe tbody tr th:only-of-type {\n",
       "        vertical-align: middle;\n",
       "    }\n",
       "\n",
       "    .dataframe tbody tr th {\n",
       "        vertical-align: top;\n",
       "    }\n",
       "\n",
       "    .dataframe thead th {\n",
       "        text-align: right;\n",
       "    }\n",
       "</style>\n",
       "<table border=\"1\" class=\"dataframe\">\n",
       "  <thead>\n",
       "    <tr style=\"text-align: right;\">\n",
       "      <th></th>\n",
       "      <th>High</th>\n",
       "      <th>Low</th>\n",
       "      <th>Open</th>\n",
       "      <th>Close</th>\n",
       "      <th>Volume</th>\n",
       "      <th>Adj Close</th>\n",
       "    </tr>\n",
       "    <tr>\n",
       "      <th>Date</th>\n",
       "      <th></th>\n",
       "      <th></th>\n",
       "      <th></th>\n",
       "      <th></th>\n",
       "      <th></th>\n",
       "      <th></th>\n",
       "    </tr>\n",
       "  </thead>\n",
       "  <tbody>\n",
       "    <tr>\n",
       "      <th>2021-01-04</th>\n",
       "      <td>29.18</td>\n",
       "      <td>28.530001</td>\n",
       "      <td>28.650000</td>\n",
       "      <td>28.910000</td>\n",
       "      <td>74719700</td>\n",
       "      <td>26.396517</td>\n",
       "    </tr>\n",
       "    <tr>\n",
       "      <th>2021-01-05</th>\n",
       "      <td>30.18</td>\n",
       "      <td>28.240000</td>\n",
       "      <td>28.900000</td>\n",
       "      <td>30.040001</td>\n",
       "      <td>95181100</td>\n",
       "      <td>27.428276</td>\n",
       "    </tr>\n",
       "    <tr>\n",
       "      <th>2021-01-06</th>\n",
       "      <td>30.90</td>\n",
       "      <td>30.049999</td>\n",
       "      <td>30.160000</td>\n",
       "      <td>30.100000</td>\n",
       "      <td>96562500</td>\n",
       "      <td>27.483057</td>\n",
       "    </tr>\n",
       "    <tr>\n",
       "      <th>2021-01-07</th>\n",
       "      <td>31.15</td>\n",
       "      <td>30.340000</td>\n",
       "      <td>30.340000</td>\n",
       "      <td>31.000000</td>\n",
       "      <td>56171300</td>\n",
       "      <td>28.304810</td>\n",
       "    </tr>\n",
       "    <tr>\n",
       "      <th>2021-01-08</th>\n",
       "      <td>31.76</td>\n",
       "      <td>30.350000</td>\n",
       "      <td>31.459999</td>\n",
       "      <td>31.120001</td>\n",
       "      <td>67136300</td>\n",
       "      <td>28.414377</td>\n",
       "    </tr>\n",
       "  </tbody>\n",
       "</table>\n",
       "</div>"
      ],
      "text/plain": [
       "             High        Low       Open      Close    Volume  Adj Close\n",
       "Date                                                                   \n",
       "2021-01-04  29.18  28.530001  28.650000  28.910000  74719700  26.396517\n",
       "2021-01-05  30.18  28.240000  28.900000  30.040001  95181100  27.428276\n",
       "2021-01-06  30.90  30.049999  30.160000  30.100000  96562500  27.483057\n",
       "2021-01-07  31.15  30.340000  30.340000  31.000000  56171300  28.304810\n",
       "2021-01-08  31.76  30.350000  31.459999  31.120001  67136300  28.414377"
      ]
     },
     "execution_count": 14,
     "metadata": {},
     "output_type": "execute_result"
    }
   ],
   "source": [
    "petr.head()"
   ]
  },
  {
   "cell_type": "code",
   "execution_count": null,
   "metadata": {},
   "outputs": [],
   "source": []
  }
 ],
 "metadata": {
  "kernelspec": {
   "display_name": "Python 3",
   "language": "python",
   "name": "python3"
  },
  "language_info": {
   "codemirror_mode": {
    "name": "ipython",
    "version": 3
   },
   "file_extension": ".py",
   "mimetype": "text/x-python",
   "name": "python",
   "nbconvert_exporter": "python",
   "pygments_lexer": "ipython3",
   "version": "3.8.5"
  }
 },
 "nbformat": 4,
 "nbformat_minor": 4
}
