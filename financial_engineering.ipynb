{
 "cells": [
  {
   "cell_type": "code",
   "execution_count": 1,
   "metadata": {},
   "outputs": [],
   "source": [
    "from pandas_datareader import data as web\n",
    "import pandas as pd\n",
    "import seaborn as sns\n",
    "import numpy as np\n",
    "from matplotlib import pyplot as plt\n",
    "from create_database import create_database\n",
    "\n",
    "%matplotlib inline"
   ]
  },
  {
   "cell_type": "code",
   "execution_count": 2,
   "metadata": {},
   "outputs": [],
   "source": [
    "ticker_path = './data/raw/ibov_tickers.xlsx'\n",
    "start='01-01-2020'\n",
    "end='31-12-2020'"
   ]
  },
  {
   "cell_type": "code",
   "execution_count": 16,
   "metadata": {},
   "outputs": [],
   "source": [
    "# df = create_database(start,end, ticker_path) #download database from scratch\n",
    "# df.to_excel(\"./data/raw/b3_2020.xlsx\",index=False)"
   ]
  },
  {
   "cell_type": "code",
   "execution_count": 13,
   "metadata": {},
   "outputs": [
    {
     "data": {
      "text/plain": [
       "(21684, 10)"
      ]
     },
     "execution_count": 13,
     "metadata": {},
     "output_type": "execute_result"
    }
   ],
   "source": [
    "#read already downloaded database\n",
    "df = pd.read_excel('./data/raw/b3_2020.xlsx')\n",
    "df.shape"
   ]
  },
  {
   "cell_type": "code",
   "execution_count": 14,
   "metadata": {},
   "outputs": [
    {
     "data": {
      "text/html": [
       "<div>\n",
       "<style scoped>\n",
       "    .dataframe tbody tr th:only-of-type {\n",
       "        vertical-align: middle;\n",
       "    }\n",
       "\n",
       "    .dataframe tbody tr th {\n",
       "        vertical-align: top;\n",
       "    }\n",
       "\n",
       "    .dataframe thead th {\n",
       "        text-align: right;\n",
       "    }\n",
       "</style>\n",
       "<table border=\"1\" class=\"dataframe\">\n",
       "  <thead>\n",
       "    <tr style=\"text-align: right;\">\n",
       "      <th></th>\n",
       "      <th>ticker</th>\n",
       "      <th>date</th>\n",
       "      <th>high</th>\n",
       "      <th>low</th>\n",
       "      <th>open</th>\n",
       "      <th>close</th>\n",
       "      <th>volume</th>\n",
       "      <th>adj close</th>\n",
       "      <th>return</th>\n",
       "      <th>result_dia</th>\n",
       "    </tr>\n",
       "  </thead>\n",
       "  <tbody>\n",
       "    <tr>\n",
       "      <th>19174</th>\n",
       "      <td>SUZB3.SA</td>\n",
       "      <td>2020-10-30</td>\n",
       "      <td>52.970001</td>\n",
       "      <td>49.490002</td>\n",
       "      <td>50.439999</td>\n",
       "      <td>50.049999</td>\n",
       "      <td>16475100</td>\n",
       "      <td>50.049999</td>\n",
       "      <td>0.389999</td>\n",
       "      <td>2</td>\n",
       "    </tr>\n",
       "    <tr>\n",
       "      <th>6927</th>\n",
       "      <td>DXCO3.SA</td>\n",
       "      <td>2020-01-17</td>\n",
       "      <td>16.900000</td>\n",
       "      <td>16.420000</td>\n",
       "      <td>16.799999</td>\n",
       "      <td>16.750000</td>\n",
       "      <td>3693400</td>\n",
       "      <td>16.089422</td>\n",
       "      <td>0.049999</td>\n",
       "      <td>2</td>\n",
       "    </tr>\n",
       "    <tr>\n",
       "      <th>9434</th>\n",
       "      <td>EZTC3.SA</td>\n",
       "      <td>2020-03-13</td>\n",
       "      <td>40.529999</td>\n",
       "      <td>33.720001</td>\n",
       "      <td>38.150002</td>\n",
       "      <td>37.599998</td>\n",
       "      <td>4281000</td>\n",
       "      <td>36.315182</td>\n",
       "      <td>0.550003</td>\n",
       "      <td>2</td>\n",
       "    </tr>\n",
       "  </tbody>\n",
       "</table>\n",
       "</div>"
      ],
      "text/plain": [
       "         ticker       date       high        low       open      close  \\\n",
       "19174  SUZB3.SA 2020-10-30  52.970001  49.490002  50.439999  50.049999   \n",
       "6927   DXCO3.SA 2020-01-17  16.900000  16.420000  16.799999  16.750000   \n",
       "9434   EZTC3.SA 2020-03-13  40.529999  33.720001  38.150002  37.599998   \n",
       "\n",
       "         volume  adj close    return  result_dia  \n",
       "19174  16475100  50.049999  0.389999           2  \n",
       "6927    3693400  16.089422  0.049999           2  \n",
       "9434    4281000  36.315182  0.550003           2  "
      ]
     },
     "execution_count": 14,
     "metadata": {},
     "output_type": "execute_result"
    }
   ],
   "source": [
    "df.sample(3)"
   ]
  },
  {
   "cell_type": "code",
   "execution_count": null,
   "metadata": {},
   "outputs": [],
   "source": []
  }
 ],
 "metadata": {
  "kernelspec": {
   "display_name": "Python 3",
   "language": "python",
   "name": "python3"
  },
  "language_info": {
   "codemirror_mode": {
    "name": "ipython",
    "version": 3
   },
   "file_extension": ".py",
   "mimetype": "text/x-python",
   "name": "python",
   "nbconvert_exporter": "python",
   "pygments_lexer": "ipython3",
   "version": "3.8.5"
  }
 },
 "nbformat": 4,
 "nbformat_minor": 4
}
